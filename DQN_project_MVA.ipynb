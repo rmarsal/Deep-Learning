{
 "cells": [
  {
   "cell_type": "markdown",
   "metadata": {},
   "source": [
    "**You may need to install [OpenCV](https://pypi.python.org/pypi/opencv-python) and [scikit-video](http://www.scikit-video.org/stable/).**"
   ]
  },
  {
   "cell_type": "code",
   "execution_count": 23,
   "metadata": {},
   "outputs": [],
   "source": [
    "import keras\n",
    "import numpy as np\n",
    "import io\n",
    "import base64\n",
    "from IPython.display import HTML\n",
    "\n",
    "import cv2\n",
    "import json\n",
    "\n",
    "from keras.models import Sequential,model_from_json\n",
    "from keras.layers.core import Dense\n",
    "from keras.optimizers import sgd, Adam\n",
    "from keras.layers import Conv2D, MaxPooling2D, Activation, AveragePooling2D,Reshape,BatchNormalization, Flatten"
   ]
  },
  {
   "cell_type": "code",
   "execution_count": 24,
   "metadata": {},
   "outputs": [],
   "source": [
    "import skvideo\n",
    "skvideo.setFFmpegPath(r\"C:\\ffmpeg\\bin\")\n",
    "import skvideo.io"
   ]
  },
  {
   "cell_type": "markdown",
   "metadata": {},
   "source": [
    "# MiniProject #3: Deep Reinforcement Learning"
   ]
  },
  {
   "cell_type": "markdown",
   "metadata": {},
   "source": [
    "__Notations__: $E_p$ is the expectation under probability $p$. Please justify each of your answer and widely comment your code."
   ]
  },
  {
   "cell_type": "markdown",
   "metadata": {},
   "source": [
    "# Context"
   ]
  },
  {
   "cell_type": "markdown",
   "metadata": {},
   "source": [
    "In a reinforcement learning algorithm, we modelize each step $t$ as an action $a_t$ obtained from a state $s_t$, i.e. $\\{(a_{t},s_{t})_{t\\leq T}\\}$ having the Markov property. We consider a discount factor $\\gamma \\in [0,1]$ that ensures convergence. The goal is to find among all the policies $\\pi$, one that maximizes the expected reward:\n",
    "\n",
    "\\begin{equation*}\n",
    "R(\\pi)=\\sum_{t\\leq T}E_{p^{\\pi}}[\\gamma^t r(s_{t},a_{t})] \\> ,\n",
    "\\end{equation*}\n",
    "\n",
    "where: \n",
    "\\begin{equation*}p^{\\pi}(a_{0},a_{1},s_{1},...,a_{T},s_{T})=p(a_{0})\\prod_{t=1}^{T}\\pi(a_{t}|s_{t})p(s_{t+1}|s_{t},a_{t}) \\> .\n",
    "\\end{equation*}\n",
    "\n",
    "We note the $Q$-function:\n",
    "\n",
    "\\begin{equation*}Q^\\pi(s,a)=E_{p^{\\pi}}[\\sum_{t\\leq T}\\gamma^{t}r(s_{t},a_{t})|s_{0}=s,a_{0}=a] \\> .\n",
    "\\end{equation*}\n",
    "\n",
    "Thus, the optimal Q function is:\n",
    "\\begin{equation*}\n",
    "Q^*(s,a)=\\max_{\\pi}Q^\\pi(s,a) \\> .\n",
    "\\end{equation*}\n",
    "\n",
    "In this project, we will apply the deep reinforcement learning techniques to a simple game: an agent will have to learn from scratch a policy that will permit it maximizing a reward."
   ]
  },
  {
   "cell_type": "markdown",
   "metadata": {},
   "source": [
    "## The environment, the agent and the game"
   ]
  },
  {
   "cell_type": "markdown",
   "metadata": {},
   "source": [
    "### The environment"
   ]
  },
  {
   "cell_type": "markdown",
   "metadata": {},
   "source": [
    "### ```Environment``` is an abstract class that represents the states, rewards, and actions to obtain the new state."
   ]
  },
  {
   "cell_type": "code",
   "execution_count": 25,
   "metadata": {},
   "outputs": [],
   "source": [
    "class Environment(object):\n",
    "    def __init__(self):\n",
    "        pass\n",
    "\n",
    "    def act(self, act):\n",
    "        \"\"\"\n",
    "        One can act on the environment and obtain its reaction:\n",
    "        - the new state\n",
    "        - the reward of the new state\n",
    "        - should we continue the game?\n",
    "\n",
    "        :return: state, reward, game_over\n",
    "        \"\"\"\n",
    "        pass\n",
    "\n",
    "\n",
    "    def reset(self):\n",
    "        \"\"\"\n",
    "        Reinitialize the environment to a random state and returns\n",
    "        the original state\n",
    "\n",
    "        :return: state\n",
    "        \"\"\"\n",
    "        pass\n",
    "    \n",
    "    def draw(self):\n",
    "        \"\"\"\n",
    "        Visualize in the console or graphically the current state\n",
    "        \"\"\"\n",
    "        pass"
   ]
  },
  {
   "cell_type": "markdown",
   "metadata": {},
   "source": [
    "The method ```act``` allows to act on the environment at a given state $s_t$ (stored internally), via action $a_t$. The method will return the new state $s_{t+1}$, the reward $r(s_{t},a_{t})$ and determines if $t\\leq T$ (*game_over*).\n",
    "\n",
    "The method ```reset``` simply reinitializes the environment to a random state $s_0$.\n",
    "\n",
    "The method ```draw``` displays the current state $s_t$ (this is useful to check the behavior of the Agent).\n",
    "\n",
    "We modelize $s_t$ as a tensor, while $a_t$ is an integer."
   ]
  },
  {
   "cell_type": "markdown",
   "metadata": {},
   "source": [
    "### The Agent"
   ]
  },
  {
   "cell_type": "markdown",
   "metadata": {},
   "source": [
    "The goal of the ```Agent``` is to interact with the ```Environment``` by proposing actions $a_t$ obtained from a given state $s_t$ to attempt to maximize its __reward__ $r(s_t,a_t)$. We propose the following abstract class:"
   ]
  },
  {
   "cell_type": "code",
   "execution_count": 27,
   "metadata": {},
   "outputs": [],
   "source": [
    "class Agent(object):\n",
    "    def __init__(self, epsilon=0.1, n_action=4):\n",
    "        self.epsilon = epsilon\n",
    "        self.n_action = n_action\n",
    "    \n",
    "    def set_epsilon(self,e):\n",
    "        self.epsilon = e\n",
    "\n",
    "    def act(self,s,train=True):\n",
    "        \"\"\" This function should return the next action to do:\n",
    "        an integer between 0 and 4 (not included) with a random exploration of epsilon\"\"\"\n",
    "        if train:\n",
    "            if np.random.rand() <= self.epsilon:\n",
    "                a = np.random.randint(0, self.n_action, size=1)[0]\n",
    "            else:\n",
    "                a = self.learned_act(s)\n",
    "        else: # in some cases, this can improve the performance.. remove it if poor performances\n",
    "            a = self.learned_act(s)\n",
    "\n",
    "        return a\n",
    "\n",
    "    def learned_act(self,s):\n",
    "        \"\"\" Act via the policy of the agent, from a given state s\n",
    "        it proposes an action a\"\"\"\n",
    "        pass\n",
    "\n",
    "    def reinforce(self, s, n_s, a, r, game_over_):\n",
    "        \"\"\" This function is the core of the learning algorithm. \n",
    "        It takes as an input the current state s_, the next state n_s_\n",
    "        the action a_ used to move from s_ to n_s_ and the reward r_.\n",
    "        \n",
    "        Its goal is to learn a policy.\n",
    "        \"\"\"\n",
    "        pass\n",
    "\n",
    "    def save(self):\n",
    "        \"\"\" This function returns basic stats if applicable: the\n",
    "        loss and/or the model\"\"\"\n",
    "        pass\n",
    "\n",
    "    def load(self):\n",
    "        \"\"\" This function allows to restore a model\"\"\"\n",
    "        pass"
   ]
  },
  {
   "cell_type": "markdown",
   "metadata": {},
   "source": [
    "***\n",
    "__Question 1__:\n",
    "Explain the function act. Why is ```epsilon``` essential?"
   ]
  },
  {
   "cell_type": "markdown",
   "metadata": {},
   "source": [
    "In order to enhance the Q-learning process, we shall use two types of moves:\n",
    "\n",
    "Exploitation: these are moves that our policy  π  dictates based on previous experiences. The policy function is used in about 90% of the moves before it is completed.\n",
    "Exploration: in about 10% of the cases, we take a completely random action in order to acquire new experiences (and possibly meet bigger rewards) which our strategy function may not allow us to make due to its restrictive nature. Think of it as choosing a completey random new restaurant once in a while instead of choosing the routine restaurants that you already familiar with.\n",
    "The exploration factor epsilon is the the frequency level of how much exploration to do. It is usually set to 0.1, which roughly means that in one of every 10 moves the agent takes a completely random action. There are however many other usage schemes you can try (you can even tune epsilon during training!)"
   ]
  },
  {
   "cell_type": "markdown",
   "metadata": {},
   "source": [
    "***\n",
    "### The Game"
   ]
  },
  {
   "cell_type": "markdown",
   "metadata": {},
   "source": [
    "The ```Agent``` and the ```Environment``` work in an interlaced way as in the following (take some time to understand this code as it is the core of the project)\n",
    "\n",
    "```python\n",
    "\n",
    "epoch = 300\n",
    "env = Environment()\n",
    "agent = Agent()\n",
    "\n",
    "\n",
    "# Number of won games\n",
    "score = 0\n",
    "loss = 0\n",
    "\n",
    "\n",
    "for e in range(epoch):\n",
    "    # At each epoch, we restart to a fresh game and get the initial state\n",
    "    state = env.reset()\n",
    "    # This assumes that the games will end\n",
    "    game_over = False\n",
    "\n",
    "    win = 0\n",
    "    lose = 0\n",
    "    \n",
    "    while not game_over:\n",
    "        # The agent performs an action\n",
    "        action = agent.act(state)\n",
    "\n",
    "        # Apply an action to the environment, get the next state, the reward\n",
    "        # and if the games end\n",
    "        prev_state = state\n",
    "        state, reward, game_over = env.act(action)\n",
    "\n",
    "        # Update the counters\n",
    "        if reward > 0:\n",
    "            win = win + reward\n",
    "        if reward < 0:\n",
    "            lose = lose -reward\n",
    "\n",
    "        # Apply the reinforcement strategy\n",
    "        loss = agent.reinforce(prev_state, state,  action, reward, game_over)\n",
    "\n",
    "    # Save as a mp4\n",
    "    if e % 10 == 0:\n",
    "        env.draw(e)\n",
    "\n",
    "    # Update stats\n",
    "    score += win-lose\n",
    "\n",
    "    print(\"Epoch {:03d}/{:03d} | Loss {:.4f} | Win/lose count {}/{} ({})\"\n",
    "          .format(e, epoch, loss, win, lose, win-lose))\n",
    "    agent.save()\n",
    "```"
   ]
  },
  {
   "cell_type": "markdown",
   "metadata": {},
   "source": [
    "# The game, *eat cheese*"
   ]
  },
  {
   "cell_type": "markdown",
   "metadata": {},
   "source": [
    "A rat runs on an island and tries to eat as much as possible. The island is subdivided into $N\\times N$ cells, in which there are cheese (+0.5) and poisonous cells (-1). The rat has a visibility of 2 cells (thus it can see $5^2$ cells). The rat is given a time $T$ to accumulate as much food as possible. It can perform 4 actions: going up, down, left, right. \n",
    "\n",
    "The goal is to code an agent to solve this task that will learn by trial and error. We propose the following environment:"
   ]
  },
  {
   "cell_type": "code",
   "execution_count": 28,
   "metadata": {},
   "outputs": [],
   "source": [
    "class Environment(object):\n",
    "    def __init__(self, grid_size=10, max_time=500, temperature=0.1):\n",
    "        grid_size = grid_size+4\n",
    "        self.grid_size = grid_size\n",
    "        self.max_time = max_time\n",
    "        self.temperature = temperature\n",
    "\n",
    "        #board on which one plays\n",
    "        self.board = np.zeros((grid_size,grid_size))\n",
    "        self.position = np.zeros((grid_size,grid_size))\n",
    "\n",
    "        # coordinate of the rat\n",
    "        self.x = 0\n",
    "        self.y = 1\n",
    "\n",
    "        # self time\n",
    "        self.t = 0\n",
    "\n",
    "        self.scale=16\n",
    "\n",
    "        self.to_draw = np.zeros((max_time+2, grid_size*self.scale, grid_size*self.scale, 3))\n",
    "\n",
    "\n",
    "    def draw(self,e):\n",
    "        skvideo.io.vwrite(str(e) + '.mp4', self.to_draw)\n",
    "\n",
    "    def get_frame(self,t):\n",
    "        b = np.zeros((self.grid_size,self.grid_size,3))+128\n",
    "        b[self.board>0,0] = 256\n",
    "        b[self.board < 0, 2] = 256\n",
    "        b[self.x,self.y,:]=256\n",
    "        b[-2:,:,:]=0\n",
    "        b[:,-2:,:]=0\n",
    "        b[:2,:,:]=0\n",
    "        b[:,:2,:]=0\n",
    "        \n",
    "        b =  cv2.resize(b, None, fx=self.scale, fy=self.scale, interpolation=cv2.INTER_NEAREST)\n",
    "\n",
    "        self.to_draw[t,:,:,:]=b\n",
    "\n",
    "\n",
    "    def act(self, action):\n",
    "        \"\"\"This function returns the new state, reward and decides if the\n",
    "        game ends.\"\"\"\n",
    "\n",
    "        self.get_frame(int(self.t))\n",
    "\n",
    "        self.position = np.zeros((self.grid_size, self.grid_size))\n",
    "\n",
    "        self.position[0:2,:]= -1\n",
    "        self.position[:,0:2] = -1\n",
    "        self.position[-2:, :] = -1\n",
    "        self.position[-2:, :] = -1\n",
    "\n",
    "        self.position[self.x, self.y] = 1\n",
    "        if action == 0:\n",
    "            if self.x == self.grid_size-3:\n",
    "                self.x = self.x-1\n",
    "            else:\n",
    "                self.x = self.x + 1\n",
    "        elif action == 1:\n",
    "            if self.x == 2:\n",
    "                self.x = self.x+1\n",
    "            else:\n",
    "                self.x = self.x-1\n",
    "        elif action == 2:\n",
    "            if self.y == self.grid_size - 3:\n",
    "                self.y = self.y - 1\n",
    "            else:\n",
    "                self.y = self.y + 1\n",
    "        elif action == 3:\n",
    "            if self.y == 2:\n",
    "                self.y = self.y + 1\n",
    "            else:\n",
    "                self.y = self.y - 1\n",
    "        else:\n",
    "            RuntimeError('Error: action not recognized')\n",
    "\n",
    "        self.t = self.t + 1\n",
    "        reward = self.board[self.x, self.y]\n",
    "        self.board[self.x, self.y] = 0\n",
    "        game_over = self.t > self.max_time\n",
    "        state = np.concatenate((self.board.reshape(self.grid_size, self.grid_size,1),\n",
    "                        self.position.reshape(self.grid_size, self.grid_size,1)),axis=2)\n",
    "        state = state[self.x-2:self.x+3,self.y-2:self.y+3,:]\n",
    "\n",
    "        return state, reward, game_over\n",
    "\n",
    "    def reset(self):\n",
    "        \"\"\"This function resets the game and returns the initial state\"\"\"\n",
    "\n",
    "        self.x = np.random.randint(3, self.grid_size-3, size=1)[0]\n",
    "        self.y = np.random.randint(3, self.grid_size-3, size=1)[0]\n",
    "\n",
    "\n",
    "        bonus = 0.5*np.random.binomial(1,self.temperature,size=self.grid_size**2)\n",
    "        bonus = bonus.reshape(self.grid_size,self.grid_size)\n",
    "\n",
    "        malus = -1.0*np.random.binomial(1,self.temperature,size=self.grid_size**2)\n",
    "        malus = malus.reshape(self.grid_size, self.grid_size)\n",
    "\n",
    "        self.to_draw = np.zeros((self.max_time+2, self.grid_size*self.scale, self.grid_size*self.scale, 3))\n",
    "\n",
    "\n",
    "        malus[bonus>0]=0\n",
    "\n",
    "        self.board = bonus + malus\n",
    "\n",
    "        self.position = np.zeros((self.grid_size, self.grid_size))\n",
    "        self.position[0:2,:]= -1\n",
    "        self.position[:,0:2] = -1\n",
    "        self.position[-2:, :] = -1\n",
    "        self.position[-2:, :] = -1\n",
    "        self.board[self.x,self.y] = 0\n",
    "        self.t = 0\n",
    "\n",
    "        state = np.concatenate((\n",
    "                               self.board.reshape(self.grid_size, self.grid_size,1),\n",
    "                        self.position.reshape(self.grid_size, self.grid_size,1)),axis=2)\n",
    "\n",
    "        state = state[self.x - 2:self.x + 3, self.y - 2:self.y + 3, :]\n",
    "        return state"
   ]
  },
  {
   "cell_type": "markdown",
   "metadata": {},
   "source": [
    "The following elements are important because they correspond to the hyper parameters for this project:"
   ]
  },
  {
   "cell_type": "code",
   "execution_count": 29,
   "metadata": {},
   "outputs": [],
   "source": [
    "# parameters\n",
    "size = 13\n",
    "T=200\n",
    "temperature=0.3\n",
    "epochs_train=50 # set small when debugging\n",
    "epochs_test=10 # set small when debugging\n",
    "\n",
    "# display videos\n",
    "def display_videos(name):\n",
    "    video = io.open(name, 'r+b').read()\n",
    "    encoded = base64.b64encode(video)\n",
    "    return '''<video alt=\"test\" controls>\n",
    "                <source src=\"data:video/mp4;base64,{0}\" type=\"video/mp4\" />\n",
    "             </video>'''.format(encoded.decode('ascii'))"
   ]
  },
  {
   "cell_type": "markdown",
   "metadata": {},
   "source": [
    "__Question 2__ Explain the use of the arrays ```position``` and ```board```."
   ]
  },
  {
   "cell_type": "markdown",
   "metadata": {},
   "source": [
    "The position array contains an array representing where the rat can go. It has -1 in the boundaries where we can't go, 0 where we can actually go and finally 1 in the position where the rat is. The board represent the reward associated to each cell of the grid. If our rat comes to the position $(x,y)$ it will get the reward board[x,y]"
   ]
  },
  {
   "cell_type": "markdown",
   "metadata": {},
   "source": [
    "## Random Agent"
   ]
  },
  {
   "cell_type": "markdown",
   "metadata": {},
   "source": [
    "***\n",
    "__Question 3__ Implement a random Agent (only ```learned_act``` needs to be implemented):"
   ]
  },
  {
   "cell_type": "code",
   "execution_count": 30,
   "metadata": {},
   "outputs": [],
   "source": [
    "class RandomAgent(Agent):\n",
    "    def __init__(self):\n",
    "        super(RandomAgent, self).__init__()\n",
    "        pass\n",
    "    \n",
    "    def learned_act(self, s):\n",
    "        random = np.random.randint(self.n_action)\n",
    "        return(random)"
   ]
  },
  {
   "cell_type": "markdown",
   "metadata": {},
   "source": [
    "***\n",
    "***\n",
    "__Question 4__ Visualize the game moves. You need to fill in the following function for the evaluation:"
   ]
  },
  {
   "cell_type": "code",
   "execution_count": 31,
   "metadata": {},
   "outputs": [],
   "source": [
    "def test(agent,env,epochs,prefix=''):\n",
    "    # Number of won games\n",
    "    score = 0\n",
    "    loss = 0\n",
    "    \n",
    "    for e in range(epochs):\n",
    "        \n",
    "        # At each epoch, we restart to a fresh game and get the initial state\n",
    "        state = env.reset()\n",
    "        # This assumes that the games will end\n",
    "        game_over = False\n",
    "        \n",
    "        win = 0\n",
    "        lose = 0\n",
    "        \n",
    "        while not game_over:\n",
    "            # The agent performs an action\n",
    "            action = agent.act(state, train = False)\n",
    "            \n",
    "            # Apply an action to the environment, get the next state, the reward\n",
    "            # and if the games end\n",
    "            prev_state = state\n",
    "            state, reward, game_over = env.act(action)\n",
    "            \n",
    "            # Update the counters\n",
    "            if reward > 0:\n",
    "                win = win + reward\n",
    "            if reward < 0:\n",
    "                lose = lose - reward\n",
    "        \n",
    "        # Save as a mp4\n",
    "        env.draw(prefix+str(e))\n",
    "\n",
    "        # Update stats\n",
    "        score = score + win-lose\n",
    "\n",
    "        print(\"Win/lose count {}/{}. Average score ({})\"\n",
    "              .format(win, lose, score/(1+e)))\n",
    "    print('Final score: '+str(score/epochs))"
   ]
  },
  {
   "cell_type": "code",
   "execution_count": 32,
   "metadata": {},
   "outputs": [
    {
     "name": "stdout",
     "output_type": "stream",
     "text": [
      "Win/lose count 8.0/8.0. Average score (0.0)\n",
      "Win/lose count 14.0/19.0. Average score (-2.5)\n",
      "Win/lose count 12.5/12.0. Average score (-1.5)\n",
      "Win/lose count 11.5/15.0. Average score (-2.0)\n",
      "Win/lose count 11.0/10.0. Average score (-1.4)\n",
      "Win/lose count 8.5/15.0. Average score (-2.25)\n",
      "Win/lose count 13.0/15.0. Average score (-2.2142857142857144)\n",
      "Win/lose count 13.0/17.0. Average score (-2.4375)\n",
      "Win/lose count 10.5/19.0. Average score (-3.111111111111111)\n",
      "Win/lose count 11.5/15.0. Average score (-3.15)\n",
      "Final score: -3.15\n"
     ]
    },
    {
     "data": {
      "text/html": [
       "<video alt=\"test\" controls>\n",
       "                <source src=\"data:video/mp4;base64,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\" type=\"video/mp4\" />\n",
       "             </video>"
      ],
      "text/plain": [
       "<IPython.core.display.HTML object>"
      ]
     },
     "execution_count": 32,
     "metadata": {},
     "output_type": "execute_result"
    }
   ],
   "source": [
    "# Initialize the game\n",
    "env = Environment(grid_size=size, max_time=T,temperature=temperature)\n",
    "\n",
    "# Initialize the agent!\n",
    "agent = RandomAgent()\n",
    "\n",
    "test(agent,env,epochs_test,prefix='random')\n",
    "HTML(display_videos('random0.mp4'))"
   ]
  },
  {
   "cell_type": "markdown",
   "metadata": {},
   "source": [
    "***\n",
    "## DQN"
   ]
  },
  {
   "cell_type": "markdown",
   "metadata": {},
   "source": [
    "Let us assume here that $T=\\infty$.\n",
    "\n",
    "***\n",
    "__Question 5__ Let $\\pi$ be a policy, show that:\n",
    "\n",
    "\\begin{equation*}\n",
    "Q^{\\pi}(s,a)=E_{(s',a')\\sim p(.|s,a)}[r(s,a)+\\gamma Q^{\\pi}(s',a')]\n",
    "\\end{equation*}\n",
    "\n",
    "Then, show that for the optimal policy $\\pi^*$ (we assume its existence), the following holds: \n",
    "\n",
    "\\begin{equation*}\n",
    "Q^{*}(s,a)=E_{s'\\sim \\pi^*(.|s,a)}[r(s,a)+\\gamma\\max_{a'}Q^{*}(s',a')].\n",
    "\\end{equation*}\n",
    "Finally, deduce that a plausible objective is:\n",
    "\n",
    "\\begin{equation*}\n",
    "\\mathcal{L}(\\theta)=E_{s' \\sim \\pi^*(.|s,a)}\\Vert r+\\gamma\\max\\max_{a'}Q(s',a',\\theta)-Q(s,a,\\theta)\\Vert^{2}.\n",
    "\\end{equation*}\n",
    "\n",
    "\n"
   ]
  },
  {
   "cell_type": "markdown",
   "metadata": {},
   "source": [
    "![alt text](qmath.png \"Title\")"
   ]
  },
  {
   "cell_type": "markdown",
   "metadata": {},
   "source": [
    "***\n",
    "The DQN-learning algorithm relies on these derivations to train the parameters $\\theta$ of a Deep Neural Network:\n",
    "\n",
    "1. At the state $s_t$, select the action $a_t$ with best reward using $Q_t$ and store the results;\n",
    "\n",
    "2. Obtain the new state $s_{t+1}$ from the environment $p$;\n",
    "\n",
    "3. Store $(s_t,a_t,s_{t+1})$;\n",
    "\n",
    "4. Obtain $Q_{t+1}$ by minimizing  $\\mathcal{L}$ from a recovered batch from the previously stored results.\n",
    "\n",
    "***\n",
    "__Question 6__ Implement the class ```Memory``` that stores moves (in a replay buffer) via ```remember``` and provides a ```random_access``` to these. Specify a maximum memory size to avoid side effects. You can for example use a ```list()``` and set by default ```max_memory=100```."
   ]
  },
  {
   "cell_type": "code",
   "execution_count": 33,
   "metadata": {},
   "outputs": [],
   "source": [
    "class Memory(object):\n",
    "    def __init__(self, max_memory=100):\n",
    "        self.max_memory = max_memory\n",
    "        self.memory = list()\n",
    "\n",
    "    def remember(self, m):\n",
    "        self.memory.append(m)\n",
    "        if len(self.memory) > self.max_memory:\n",
    "            del self.memory[0]\n",
    "\n",
    "    def random_access(self):\n",
    "        random = np.random.randint(len(self.memory))\n",
    "        return self.memory[random]"
   ]
  },
  {
   "cell_type": "markdown",
   "metadata": {},
   "source": [
    "***\n",
    "The pipeline we will use for training is given below:"
   ]
  },
  {
   "cell_type": "code",
   "execution_count": 34,
   "metadata": {},
   "outputs": [],
   "source": [
    "def train(agent,env,epoch,prefix=''):\n",
    "    # Number of won games\n",
    "    score = 0\n",
    "    loss = 0\n",
    "\n",
    "    for e in range(epoch):\n",
    "        # At each epoch, we restart to a fresh game and get the initial state\n",
    "        state = env.reset()\n",
    "        # This assumes that the games will terminate\n",
    "        game_over = False\n",
    "\n",
    "        win = 0\n",
    "        lose = 0\n",
    "\n",
    "        while not game_over:\n",
    "            # The agent performs an action\n",
    "            action = agent.act(state, train = True)\n",
    "\n",
    "            # Apply an action to the environment, get the next state, the reward\n",
    "            # and if the games end\n",
    "            prev_state = state\n",
    "            state, reward, game_over = env.act(action)\n",
    "\n",
    "            # Update the counters\n",
    "            if reward > 0:\n",
    "                win = win + reward\n",
    "            if reward < 0:\n",
    "                lose = lose -reward\n",
    "\n",
    "            # Apply the reinforcement strategy\n",
    "            loss = agent.reinforce(prev_state, state,  action, reward, game_over)\n",
    "\n",
    "        # Save as a mp4\n",
    "        if e % 10 == 0:\n",
    "            env.draw(prefix+str(e))\n",
    "\n",
    "        # Update stats\n",
    "        score += win-lose\n",
    "\n",
    "        print(\"Epoch {:03d}/{:03d} | Loss {:.4f} | Win/lose count {}/{} ({})\"\n",
    "              .format(e, epoch, loss, win, lose, win-lose))\n",
    "        agent.save(name_weights=prefix+'model.h5',name_model=prefix+'model.json')"
   ]
  },
  {
   "cell_type": "markdown",
   "metadata": {},
   "source": [
    "***\n",
    "__Question 7__ Implement the DQN training algorithm using a cascade of fully connected layers. You can use different learning rate, batch size or memory size parameters. In particular, the loss might oscillate while the player will start to win the games. You have to find a good criterium."
   ]
  },
  {
   "cell_type": "code",
   "execution_count": 39,
   "metadata": {},
   "outputs": [],
   "source": [
    "class DQN(Agent):\n",
    "    def __init__(self, grid_size,  epsilon = 0.1, memory_size=100, batch_size = 16,n_state=2):\n",
    "        super(DQN, self).__init__(epsilon = epsilon)\n",
    "\n",
    "        # Discount for Q learning\n",
    "        self.discount = 0.99\n",
    "        \n",
    "        self.grid_size = grid_size\n",
    "        \n",
    "        # number of state\n",
    "        self.n_state = n_state\n",
    "\n",
    "        # Memory\n",
    "        self.memory = Memory(memory_size)\n",
    "        \n",
    "        # Batch size when learning\n",
    "        self.batch_size = batch_size\n",
    "\n",
    "    def learned_act(self, s):\n",
    "        return np.argmax(self.model.predict(s.reshape([1,s.shape[0],s.shape[1],s.shape[2]]))[0,:])\n",
    "\n",
    "    def reinforce(self, s_, n_s_, a_, r_, game_over_):\n",
    "        # Two steps: first memorize the states, second learn from the pool\n",
    "\n",
    "        self.memory.remember([s_, n_s_, a_, r_, game_over_])\n",
    "        \n",
    "        input_states = np.zeros((self.batch_size, 5,5,self.n_state))\n",
    "        target_q = np.zeros((self.batch_size, 4))\n",
    "        \n",
    "        for i in range(self.batch_size):\n",
    "            \n",
    "            s_, n_s_, a_, r_, game_over_ = self.memory.random_access()\n",
    "            target_q[i] = self.model.predict(s_.reshape([1,s_.shape[0],s_.shape[1],s_.shape[2]]))[0]\n",
    "            if game_over_:\n",
    "                \n",
    "                input_states[i] = s_\n",
    "                target_q[i, a_] = r_ \n",
    "            else:\n",
    "                \n",
    "                input_states[i] = s_\n",
    "                target_q[i, a_] = r_ + self.discount * max(self.model.predict(n_s_.reshape([1,s_.shape[0],s_.shape[1],s_.shape[2]]))[0])\n",
    "                \n",
    "        \n",
    "        # HINT: Clip the target to avoid exploiding gradients.. -- clipping is a bit tighter\n",
    "        target_q = np.clip(target_q, -3, 3)\n",
    "\n",
    "        l = self.model.train_on_batch(input_states, target_q) #equivalent of train but on one batch only\n",
    "\n",
    "\n",
    "        return l\n",
    "\n",
    "    def save(self,name_weights='model.h5',name_model='model.json'):\n",
    "        self.model.save_weights(name_weights, overwrite=True)\n",
    "        with open(name_model, \"w\") as outfile:\n",
    "            json.dump(self.model.to_json(), outfile)\n",
    "            \n",
    "    def load(self,name_weights='model.h5',name_model='model.json'):\n",
    "        with open(name_model, \"r\") as jfile:\n",
    "            model = model_from_json(json.load(jfile))\n",
    "        model.load_weights(name_weights)\n",
    "        model.compile(\"sgd\", \"mse\")\n",
    "        self.model = model\n",
    "\n",
    "            \n",
    "class DQN_FC(DQN):\n",
    "    def __init__(self, *args, lr=0.1,**kwargs):\n",
    "        super(DQN_FC, self).__init__( *args,**kwargs)\n",
    "        \n",
    "        # NN Model\n",
    "        \n",
    "        \n",
    "        model = Sequential()\n",
    "        model.add(Flatten(input_shape=(5,5,self.n_state,)))\n",
    "        #One hidden layer with 30 neurons and relu activation function\n",
    "        model.add(Dense(30, activation = 'relu'))\n",
    "        #4 neurons to suit the shape of target_q\n",
    "        model.add(Dense(4))\n",
    "\n",
    "        #Optimization method: Stochastic Gradient descent \n",
    "        \n",
    "        model.compile(sgd(lr=lr, decay=1e-4, momentum=0.0), \"mse\")\n",
    "        self.model = model\n",
    "        "
   ]
  },
  {
   "cell_type": "code",
   "execution_count": 40,
   "metadata": {},
   "outputs": [
    {
     "name": "stdout",
     "output_type": "stream",
     "text": [
      "Epoch 000/050 | Loss 0.0178 | Win/lose count 1.5/2.0 (-0.5)\n",
      "Epoch 001/050 | Loss 0.0089 | Win/lose count 2.5/5.0 (-2.5)\n",
      "Epoch 002/050 | Loss 0.0028 | Win/lose count 2.5/3.0 (-0.5)\n",
      "Epoch 003/050 | Loss 0.0050 | Win/lose count 1.0/0 (1.0)\n",
      "Epoch 004/050 | Loss 0.0057 | Win/lose count 2.5/2.0 (0.5)\n",
      "Epoch 005/050 | Loss 0.0049 | Win/lose count 2.0/4.0 (-2.0)\n",
      "Epoch 006/050 | Loss 0.0539 | Win/lose count 6.0/7.0 (-1.0)\n",
      "Epoch 007/050 | Loss 0.0064 | Win/lose count 3.0/1.0 (2.0)\n",
      "Epoch 008/050 | Loss 0.0022 | Win/lose count 3.5/4.0 (-0.5)\n",
      "Epoch 009/050 | Loss 0.0093 | Win/lose count 0.5/2.0 (-1.5)\n",
      "Epoch 010/050 | Loss 0.0025 | Win/lose count 2.5/1.0 (1.5)\n",
      "Epoch 011/050 | Loss 0.0067 | Win/lose count 2.0/2.0 (0.0)\n",
      "Epoch 012/050 | Loss 0.0091 | Win/lose count 1.5/1.0 (0.5)\n",
      "Epoch 013/050 | Loss 0.0025 | Win/lose count 3.0/1.0 (2.0)\n",
      "Epoch 014/050 | Loss 0.0493 | Win/lose count 7.0/4.0 (3.0)\n",
      "Epoch 015/050 | Loss 0.0027 | Win/lose count 3.0/4.0 (-1.0)\n",
      "Epoch 016/050 | Loss 0.0144 | Win/lose count 1.0/2.0 (-1.0)\n",
      "Epoch 017/050 | Loss 0.0012 | Win/lose count 5.5/2.0 (3.5)\n",
      "Epoch 018/050 | Loss 0.0056 | Win/lose count 3.5/2.0 (1.5)\n",
      "Epoch 019/050 | Loss 0.0061 | Win/lose count 6.0/5.0 (1.0)\n",
      "Epoch 020/050 | Loss 0.0077 | Win/lose count 2.5/3.0 (-0.5)\n",
      "Epoch 021/050 | Loss 0.0022 | Win/lose count 4.0/0 (4.0)\n",
      "Epoch 022/050 | Loss 0.0025 | Win/lose count 4.5/2.0 (2.5)\n",
      "Epoch 023/050 | Loss 0.0025 | Win/lose count 2.0/1.0 (1.0)\n",
      "Epoch 024/050 | Loss 0.0707 | Win/lose count 5.0/5.0 (0.0)\n",
      "Epoch 025/050 | Loss 0.0083 | Win/lose count 5.0/3.0 (2.0)\n",
      "Epoch 026/050 | Loss 0.0045 | Win/lose count 4.5/4.0 (0.5)\n",
      "Epoch 027/050 | Loss 0.0087 | Win/lose count 2.0/5.0 (-3.0)\n",
      "Epoch 028/050 | Loss 0.0095 | Win/lose count 3.0/2.0 (1.0)\n",
      "Epoch 029/050 | Loss 0.0219 | Win/lose count 2.0/3.0 (-1.0)\n",
      "Epoch 030/050 | Loss 0.0118 | Win/lose count 2.5/2.0 (0.5)\n",
      "Epoch 031/050 | Loss 0.0065 | Win/lose count 5.0/6.0 (-1.0)\n",
      "Epoch 032/050 | Loss 0.0211 | Win/lose count 3.0/2.0 (1.0)\n",
      "Epoch 033/050 | Loss 0.0063 | Win/lose count 1.5/3.0 (-1.5)\n",
      "Epoch 034/050 | Loss 0.0021 | Win/lose count 2.0/4.0 (-2.0)\n",
      "Epoch 035/050 | Loss 0.0034 | Win/lose count 1.0/0 (1.0)\n",
      "Epoch 036/050 | Loss 0.0044 | Win/lose count 4.0/3.0 (1.0)\n",
      "Epoch 037/050 | Loss 0.0027 | Win/lose count 3.5/3.0 (0.5)\n",
      "Epoch 038/050 | Loss 0.0013 | Win/lose count 1.5/3.0 (-1.5)\n",
      "Epoch 039/050 | Loss 0.0094 | Win/lose count 2.0/2.0 (0.0)\n",
      "Epoch 040/050 | Loss 0.0063 | Win/lose count 5.5/1.0 (4.5)\n",
      "Epoch 041/050 | Loss 0.0023 | Win/lose count 6.5/3.0 (3.5)\n",
      "Epoch 042/050 | Loss 0.0070 | Win/lose count 5.0/1.0 (4.0)\n",
      "Epoch 043/050 | Loss 0.0074 | Win/lose count 3.0/0 (3.0)\n",
      "Epoch 044/050 | Loss 0.0041 | Win/lose count 4.0/3.0 (1.0)\n",
      "Epoch 045/050 | Loss 0.0774 | Win/lose count 1.0/2.0 (-1.0)\n",
      "Epoch 046/050 | Loss 0.0030 | Win/lose count 4.5/0 (4.5)\n",
      "Epoch 047/050 | Loss 0.0055 | Win/lose count 4.5/4.0 (0.5)\n",
      "Epoch 048/050 | Loss 0.0062 | Win/lose count 5.5/5.0 (0.5)\n",
      "Epoch 049/050 | Loss 0.0028 | Win/lose count 5.0/3.0 (2.0)\n"
     ]
    },
    {
     "data": {
      "text/html": [
       "<video alt=\"test\" controls>\n",
       "                <source src=\"data:video/mp4;base64,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\" type=\"video/mp4\" />\n",
       "             </video>"
      ],
      "text/plain": [
       "<IPython.core.display.HTML object>"
      ]
     },
     "execution_count": 40,
     "metadata": {},
     "output_type": "execute_result"
    }
   ],
   "source": [
    "epochs_train=50\n",
    "env = Environment(grid_size=size, max_time=T, temperature=0.3)\n",
    "agent = DQN_FC(size, lr=.1, epsilon = 0.1, memory_size=2000, batch_size = 32)\n",
    "train(agent, env, epochs_train, prefix='fc_train')\n",
    "HTML(display_videos('fc_train10.mp4'))"
   ]
  },
  {
   "cell_type": "markdown",
   "metadata": {},
   "source": [
    "***\n",
    "***\n",
    "__Question 8__ Implement the DQN training algorithm using a CNN (for example, 2 convolutional layers and one final fully connected layer)."
   ]
  },
  {
   "cell_type": "code",
   "execution_count": 41,
   "metadata": {},
   "outputs": [],
   "source": [
    "class DQN_CNN(DQN):\n",
    "    def __init__(self, *args,lr=0.1,**kwargs):\n",
    "        super(DQN_CNN, self).__init__(*args,**kwargs)\n",
    "        \n",
    "        model = Sequential()\n",
    "        model.add(Conv2D(50,(2,2),input_shape=(5,5,self.n_state,),activation='relu'))\n",
    "        model.add(Conv2D(30,(2,2),activation='relu'))\n",
    "        model.add(Flatten())\n",
    "        model.add(Dense(4))\n",
    "        model.compile(sgd(lr=lr, decay=1e-4, momentum=0.0), \"mse\")\n",
    "        self.model = model"
   ]
  },
  {
   "cell_type": "code",
   "execution_count": 42,
   "metadata": {},
   "outputs": [
    {
     "name": "stdout",
     "output_type": "stream",
     "text": [
      "Epoch 000/050 | Loss 0.0020 | Win/lose count 1.5/1.0 (0.5)\n",
      "Epoch 001/050 | Loss 0.0125 | Win/lose count 3.5/2.0 (1.5)\n",
      "Epoch 002/050 | Loss 0.0034 | Win/lose count 2.5/2.0 (0.5)\n",
      "Epoch 003/050 | Loss 0.0548 | Win/lose count 7.0/2.0 (5.0)\n",
      "Epoch 004/050 | Loss 0.0018 | Win/lose count 4.0/4.0 (0.0)\n",
      "Epoch 005/050 | Loss 0.0493 | Win/lose count 3.0/2.0 (1.0)\n",
      "Epoch 006/050 | Loss 0.0026 | Win/lose count 4.5/6.0 (-1.5)\n",
      "Epoch 007/050 | Loss 0.0014 | Win/lose count 9.5/3.0 (6.5)\n",
      "Epoch 008/050 | Loss 0.0083 | Win/lose count 6.5/4.0 (2.5)\n",
      "Epoch 009/050 | Loss 0.0474 | Win/lose count 2.0/4.0 (-2.0)\n",
      "Epoch 010/050 | Loss 0.0120 | Win/lose count 12.0/2.0 (10.0)\n",
      "Epoch 011/050 | Loss 0.0057 | Win/lose count 4.0/1.0 (3.0)\n",
      "Epoch 012/050 | Loss 0.0012 | Win/lose count 8.0/4.0 (4.0)\n",
      "Epoch 013/050 | Loss 0.0025 | Win/lose count 2.5/1.0 (1.5)\n",
      "Epoch 014/050 | Loss 0.0061 | Win/lose count 11.0/1.0 (10.0)\n",
      "Epoch 015/050 | Loss 0.0023 | Win/lose count 8.5/2.0 (6.5)\n",
      "Epoch 016/050 | Loss 0.0045 | Win/lose count 7.5/3.0 (4.5)\n",
      "Epoch 017/050 | Loss 0.0013 | Win/lose count 11.5/1.0 (10.5)\n",
      "Epoch 018/050 | Loss 0.0018 | Win/lose count 14.0/0 (14.0)\n",
      "Epoch 019/050 | Loss 0.0031 | Win/lose count 9.5/2.0 (7.5)\n",
      "Epoch 020/050 | Loss 0.0024 | Win/lose count 3.5/4.0 (-0.5)\n",
      "Epoch 021/050 | Loss 0.0029 | Win/lose count 14.5/1.0 (13.5)\n",
      "Epoch 022/050 | Loss 0.0034 | Win/lose count 9.0/1.0 (8.0)\n",
      "Epoch 023/050 | Loss 0.0034 | Win/lose count 8.0/1.0 (7.0)\n",
      "Epoch 024/050 | Loss 0.0011 | Win/lose count 17.0/4.0 (13.0)\n",
      "Epoch 025/050 | Loss 0.0023 | Win/lose count 18.0/4.0 (14.0)\n",
      "Epoch 026/050 | Loss 0.0065 | Win/lose count 11.0/2.0 (9.0)\n",
      "Epoch 027/050 | Loss 0.0495 | Win/lose count 14.5/2.0 (12.5)\n",
      "Epoch 028/050 | Loss 0.0020 | Win/lose count 15.5/2.0 (13.5)\n",
      "Epoch 029/050 | Loss 0.0038 | Win/lose count 18.0/5.0 (13.0)\n",
      "Epoch 030/050 | Loss 0.0016 | Win/lose count 10.0/1.0 (9.0)\n",
      "Epoch 031/050 | Loss 0.0016 | Win/lose count 9.0/2.0 (7.0)\n",
      "Epoch 032/050 | Loss 0.0029 | Win/lose count 11.5/1.0 (10.5)\n",
      "Epoch 033/050 | Loss 0.0027 | Win/lose count 22.0/1.0 (21.0)\n",
      "Epoch 034/050 | Loss 0.0595 | Win/lose count 19.0/2.0 (17.0)\n",
      "Epoch 035/050 | Loss 0.0517 | Win/lose count 22.0/3.0 (19.0)\n",
      "Epoch 036/050 | Loss 0.0034 | Win/lose count 17.5/1.0 (16.5)\n",
      "Epoch 037/050 | Loss 0.0031 | Win/lose count 18.5/3.0 (15.5)\n",
      "Epoch 038/050 | Loss 0.0412 | Win/lose count 14.0/3.0 (11.0)\n",
      "Epoch 039/050 | Loss 0.0400 | Win/lose count 17.5/0 (17.5)\n",
      "Epoch 040/050 | Loss 0.0015 | Win/lose count 18.5/3.0 (15.5)\n",
      "Epoch 041/050 | Loss 0.0029 | Win/lose count 12.0/3.0 (9.0)\n",
      "Epoch 042/050 | Loss 0.0026 | Win/lose count 11.5/2.0 (9.5)\n",
      "Epoch 043/050 | Loss 0.0084 | Win/lose count 10.0/3.0 (7.0)\n",
      "Epoch 044/050 | Loss 0.0021 | Win/lose count 16.0/7.0 (9.0)\n",
      "Epoch 045/050 | Loss 0.0036 | Win/lose count 9.5/2.0 (7.5)\n",
      "Epoch 046/050 | Loss 0.0025 | Win/lose count 8.0/4.0 (4.0)\n",
      "Epoch 047/050 | Loss 0.0533 | Win/lose count 4.5/1.0 (3.5)\n",
      "Epoch 048/050 | Loss 0.0010 | Win/lose count 16.0/2.0 (14.0)\n",
      "Epoch 049/050 | Loss 0.0023 | Win/lose count 2.5/0 (2.5)\n"
     ]
    },
    {
     "data": {
      "text/html": [
       "<video alt=\"test\" controls>\n",
       "                <source src=\"data:video/mp4;base64,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\" type=\"video/mp4\" />\n",
       "             </video>"
      ],
      "text/plain": [
       "<IPython.core.display.HTML object>"
      ]
     },
     "execution_count": 42,
     "metadata": {},
     "output_type": "execute_result"
    }
   ],
   "source": [
    "env = Environment(grid_size=size, max_time=T, temperature=0.3)\n",
    "agent = DQN_CNN(size, lr=.1, epsilon = 0.1, memory_size=2000, batch_size = 32)\n",
    "train(agent,env,epochs_train,prefix='cnn_train')\n",
    "HTML(display_videos('cnn_train10.mp4'))"
   ]
  },
  {
   "cell_type": "markdown",
   "metadata": {},
   "source": [
    "We have better performance with the CNN."
   ]
  },
  {
   "cell_type": "markdown",
   "metadata": {},
   "source": [
    "***\n",
    "***\n",
    "__Question 9__ Test both algorithms and compare their performances. Which issue(s) do you observe? Observe also different behaviors by changing the temperature."
   ]
  },
  {
   "cell_type": "code",
   "execution_count": 43,
   "metadata": {},
   "outputs": [
    {
     "name": "stdout",
     "output_type": "stream",
     "text": [
      "Test of the CNN\n",
      "Win/lose count 5.0/0. Average score (5.0)\n",
      "Win/lose count 14.0/1.0. Average score (9.0)\n",
      "Win/lose count 3.5/0. Average score (7.166666666666667)\n",
      "Win/lose count 10.0/0. Average score (7.875)\n",
      "Win/lose count 11.5/0. Average score (8.6)\n",
      "Win/lose count 13.0/0. Average score (9.333333333333334)\n",
      "Win/lose count 9.0/0. Average score (9.285714285714286)\n",
      "Win/lose count 2.5/0. Average score (8.4375)\n",
      "Win/lose count 12.5/0. Average score (8.88888888888889)\n",
      "Win/lose count 5.0/0. Average score (8.5)\n",
      "Final score: 8.5\n",
      "Test of the FC\n",
      "Win/lose count 2.5/2.0. Average score (0.5)\n",
      "Win/lose count 0.5/0. Average score (0.5)\n",
      "Win/lose count 1.5/0. Average score (0.8333333333333334)\n",
      "Win/lose count 0.5/0. Average score (0.75)\n",
      "Win/lose count 6.0/1.0. Average score (1.6)\n",
      "Win/lose count 1.0/0. Average score (1.5)\n",
      "Win/lose count 7.0/2.0. Average score (2.0)\n",
      "Win/lose count 6.0/0. Average score (2.5)\n",
      "Win/lose count 1.0/1.0. Average score (2.2222222222222223)\n",
      "Win/lose count 6.0/0. Average score (2.6)\n",
      "Final score: 2.6\n"
     ]
    }
   ],
   "source": [
    "env = Environment(grid_size=size, max_time=T,temperature=0.9)\n",
    "agent_cnn = DQN_CNN(size, lr=.1, epsilon = 0.1, memory_size=2000, batch_size = 32)\n",
    "agent_cnn.load(name_weights='cnn_trainmodel.h5',name_model='cnn_trainmodel.json')\n",
    "\n",
    "agent_fc = DQN_FC(size, lr=.1, epsilon = 0.1, memory_size=2000, batch_size = 32)\n",
    "agent_cnn.load(name_weights='fc_trainmodel.h5',name_model='fc_trainmodel.json')\n",
    "print('Test of the CNN')\n",
    "test(agent_cnn,env,epochs_test,prefix='cnn_test')\n",
    "print('Test of the FC')\n",
    "test(agent_fc,env,epochs_test,prefix='fc_test')"
   ]
  },
  {
   "cell_type": "markdown",
   "metadata": {},
   "source": [
    "The more temperature we set, the best are the results."
   ]
  },
  {
   "cell_type": "code",
   "execution_count": 45,
   "metadata": {},
   "outputs": [
    {
     "data": {
      "text/html": [
       "<video alt=\"test\" controls>\n",
       "                <source src=\"data:video/mp4;base64,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\" type=\"video/mp4\" />\n",
       "             </video>"
      ],
      "text/plain": [
       "<IPython.core.display.HTML object>"
      ]
     },
     "execution_count": 45,
     "metadata": {},
     "output_type": "execute_result"
    }
   ],
   "source": [
    "HTML(display_videos('cnn_test9.mp4'))"
   ]
  },
  {
   "cell_type": "code",
   "execution_count": 46,
   "metadata": {},
   "outputs": [
    {
     "data": {
      "text/html": [
       "<video alt=\"test\" controls>\n",
       "                <source src=\"data:video/mp4;base64,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\" type=\"video/mp4\" />\n",
       "             </video>"
      ],
      "text/plain": [
       "<IPython.core.display.HTML object>"
      ]
     },
     "execution_count": 46,
     "metadata": {},
     "output_type": "execute_result"
    }
   ],
   "source": [
    "HTML(display_videos('fc_test9.mp4'))"
   ]
  },
  {
   "cell_type": "markdown",
   "metadata": {},
   "source": []
  },
  {
   "cell_type": "markdown",
   "metadata": {},
   "source": [
    "***\n",
    "\n",
    "The algorithm tends to not explore the map which can be an issue. We propose two ideas in order to encourage exploration:\n",
    "1. Incorporating a decreasing $\\epsilon$-greedy exploration. You can use the method ```set_epsilon```\n",
    "2. Append via the environment a new state that describes if a cell has been visited or not\n",
    "\n",
    "***\n",
    "__Question 10__ Design a new ```train_explore``` function and environment class ```EnvironmentExploring``` to tackle the issue of exploration.\n",
    "\n"
   ]
  },
  {
   "cell_type": "code",
   "execution_count": 49,
   "metadata": {},
   "outputs": [],
   "source": [
    "def train_explore(agent,env,epoch,decay_parameter_epsilon=0.3,prefix=''):\n",
    "\n",
    "    \n",
    "    \n",
    "    # Number of won games\n",
    "    score = 0\n",
    "    loss = 0\n",
    "\n",
    "    for e in range(epoch):\n",
    "        # At each epoch, we restart to a fresh game and get the initial state\n",
    "        state = env.reset()\n",
    "        # This assumes that the games will terminate\n",
    "        game_over = False\n",
    "\n",
    "        win = 0\n",
    "        lose = 0\n",
    "        agent.set_epsilon(agent.epsilon*(1-decay_parameter_epsilon))\n",
    "        while not game_over:\n",
    "            # The agent performs an action\n",
    "            action = agent.act(state)\n",
    "\n",
    "            # Apply an action to the environment, get the next state, the reward\n",
    "            # and if the games end\n",
    "            prev_state = state\n",
    "            state, reward, game_over = env.act(action, train=True)\n",
    "\n",
    "            # Update the counters\n",
    "            if reward > 0:\n",
    "                win = win + reward\n",
    "            if reward < 0:\n",
    "                lose = lose -reward\n",
    "\n",
    "            # Apply the reinforcement strategy\n",
    "            loss = agent.reinforce(prev_state, state,  action, reward, game_over)\n",
    "\n",
    "        # Save as a mp4\n",
    "        if e % 10 == 0:\n",
    "            env.draw(prefix+str(e))\n",
    "\n",
    "        # Update stats\n",
    "        score += win-lose\n",
    "\n",
    "        print(\"Epoch {:03d}/{:03d} | Loss {:.4f} | Win/lose count {}/{} ({})\"\n",
    "              .format(e, epoch, loss, win, lose, win-lose))\n",
    "        agent.save(name_weights=prefix+'model.h5',name_model=prefix+'model.json')\n",
    "        \n",
    "class EnvironmentExploring(object):\n",
    "    def __init__(self, grid_size=10, max_time=500, temperature=0.1):\n",
    "        grid_size = grid_size+4\n",
    "        self.grid_size = grid_size\n",
    "        self.max_time = max_time\n",
    "        self.temperature = temperature\n",
    "\n",
    "        #board on which one plays\n",
    "        self.board = np.zeros((grid_size,grid_size))\n",
    "        self.position = np.zeros((grid_size,grid_size))\n",
    "        self.malus_position = np.zeros((grid_size,grid_size)) #define maluses when going to a previously visited position\n",
    "        # coordinate of the cat\n",
    "        self.x = 0\n",
    "        self.y = 1\n",
    "\n",
    "        # self time\n",
    "        self.t = 0\n",
    "\n",
    "        self.scale=16\n",
    "\n",
    "        self.to_draw = np.zeros((max_time+2, grid_size*self.scale, grid_size*self.scale, 3))\n",
    "\n",
    "\n",
    "    def draw(self,e):\n",
    "        skvideo.io.vwrite(str(e) + '.mp4', self.to_draw)\n",
    "\n",
    "    def get_frame(self,t):\n",
    "        b = np.zeros((self.grid_size,self.grid_size,3))+128\n",
    "        b[self.board>0,0] = 256\n",
    "        b[self.board < 0, 2] = 256\n",
    "        b[self.x,self.y,:]=256\n",
    "        b[-2:,:,:]=0\n",
    "        b[:,-2:,:]=0\n",
    "        b[:2,:,:]=0\n",
    "        b[:,:2,:]=0\n",
    "        \n",
    "        b =  cv2.resize(b, None, fx=self.scale, fy=self.scale, interpolation=cv2.INTER_NEAREST)\n",
    "\n",
    "        self.to_draw[t,:,:,:]=b\n",
    "\n",
    "\n",
    "    def act(self, action,train=False):\n",
    "        \"\"\"This function returns the new state, reward and decides if the\n",
    "        game ends.\"\"\"\n",
    "        \n",
    "\n",
    "        self.get_frame(int(self.t))\n",
    "\n",
    "        self.position = np.zeros((self.grid_size, self.grid_size))\n",
    "\n",
    "        self.position[0:2,:]= -1\n",
    "        self.position[:,0:2] = -1\n",
    "        self.position[-2:, :] = -1\n",
    "        self.position[:, -2:] = -1\n",
    "\n",
    "        self.position[self.x, self.y] = 1\n",
    "        if action == 0:\n",
    "            if self.x == self.grid_size-3:\n",
    "                self.x = self.x-1\n",
    "            else:\n",
    "                self.x = self.x + 1\n",
    "        elif action == 1:\n",
    "            if self.x == 2:\n",
    "                self.x = self.x+1\n",
    "            else:\n",
    "                self.x = self.x-1\n",
    "        elif action == 2:\n",
    "            if self.y == self.grid_size - 3:\n",
    "                self.y = self.y - 1\n",
    "            else:\n",
    "                self.y = self.y + 1\n",
    "        elif action == 3:\n",
    "            if self.y == 2:\n",
    "                self.y = self.y + 1\n",
    "            else:\n",
    "                self.y = self.y - 1\n",
    "        else:\n",
    "            RuntimeError('Error: action not recognized')\n",
    "\n",
    "        self.t = self.t + 1     \n",
    "        \n",
    "        ## In Environment exploring:\n",
    "        # You will have to change n_state to 3 because you will use one more layer!\n",
    "        reward = 0\n",
    "        if train:\n",
    "            reward = -self.malus_position[self.x, self.y]\n",
    "        self.malus_position[self.x, self.y] = 0.1\n",
    "\n",
    "        reward = reward + self.board[self.x, self.y]\n",
    "        self.board[self.x, self.y] = 0\n",
    "        game_over = self.t > self.max_time\n",
    "        # 3 \"feature\" states instead of 2\n",
    "        state = np.concatenate((self.malus_position.reshape(self.grid_size, self.grid_size,1),\n",
    "                                        self.board.reshape(self.grid_size, self.grid_size,1),\n",
    "                                self.position.reshape(self.grid_size, self.grid_size,1)),axis=2)\n",
    "        state = state[self.x-2:self.x+3,self.y-2:self.y+3,:]\n",
    "\n",
    "        return state, reward, game_over\n",
    "\n",
    "    def reset(self):\n",
    "        \"\"\"This function resets the game and returns the initial state\"\"\"\n",
    "\n",
    "        self.x = np.random.randint(3, self.grid_size-3, size=1)[0]\n",
    "        self.y = np.random.randint(3, self.grid_size-3, size=1)[0]\n",
    "\n",
    "\n",
    "        bonus = 0.5*np.random.binomial(1,self.temperature,size=self.grid_size**2)\n",
    "        bonus = bonus.reshape(self.grid_size,self.grid_size)\n",
    "\n",
    "        malus = -1.0*np.random.binomial(1,self.temperature,size=self.grid_size**2)\n",
    "        malus = malus.reshape(self.grid_size, self.grid_size)\n",
    "\n",
    "        self.to_draw = np.zeros((self.max_time+2, self.grid_size*self.scale, self.grid_size*self.scale, 3))\n",
    "\n",
    "\n",
    "        malus[bonus>0]=0\n",
    "\n",
    "        self.board = bonus + malus\n",
    "\n",
    "        self.position = np.zeros((self.grid_size, self.grid_size))\n",
    "        self.position[0:2,:]= -1\n",
    "        self.position[:,0:2] = -1\n",
    "        self.position[-2:, :] = -1\n",
    "        self.position[:,-2:] = -1\n",
    "        self.board[self.x,self.y] = 0\n",
    "        self.t = 0\n",
    "\n",
    "        self.malus_position = np.zeros((self.grid_size, self.grid_size))\n",
    "        #At the begining the malus_position array must be setted to zero\n",
    "        state = np.concatenate((self.malus_position.reshape(self.grid_size, self.grid_size,1),\n",
    "                                        self.board.reshape(self.grid_size, self.grid_size,1),\n",
    "                                self.position.reshape(self.grid_size, self.grid_size,1)),axis=2)\n",
    "\n",
    "        state = state[self.x - 2:self.x + 3, self.y - 2:self.y + 3, :]\n",
    "        return state"
   ]
  },
  {
   "cell_type": "code",
   "execution_count": 50,
   "metadata": {},
   "outputs": [
    {
     "name": "stdout",
     "output_type": "stream",
     "text": [
      "Epoch 000/050 | Loss 0.0100 | Win/lose count 5.5/24.70000000000004 (-19.20000000000004)\n",
      "Epoch 001/050 | Loss 0.0110 | Win/lose count 11.5/23.90000000000002 (-12.40000000000002)\n",
      "Epoch 002/050 | Loss 0.0145 | Win/lose count 19.5/19.40000000000002 (0.0999999999999801)\n",
      "Epoch 003/050 | Loss 0.0112 | Win/lose count 5.0/21.700000000000035 (-16.700000000000035)\n",
      "Epoch 004/050 | Loss 0.0074 | Win/lose count 13.0/16.899999999999974 (-3.8999999999999737)\n",
      "Epoch 005/050 | Loss 0.0164 | Win/lose count 9.5/17.799999999999983 (-8.299999999999983)\n",
      "Epoch 006/050 | Loss 0.0084 | Win/lose count 13.0/14.399999999999968 (-1.3999999999999684)\n",
      "Epoch 007/050 | Loss 0.0089 | Win/lose count 10.0/16.699999999999967 (-6.699999999999967)\n",
      "Epoch 008/050 | Loss 0.0117 | Win/lose count 12.5/13.599999999999968 (-1.0999999999999677)\n",
      "Epoch 009/050 | Loss 0.0077 | Win/lose count 13.0/14.599999999999964 (-1.5999999999999641)\n",
      "Epoch 010/050 | Loss 0.0050 | Win/lose count 14.5/14.699999999999967 (-0.19999999999996732)\n",
      "Epoch 011/050 | Loss 0.0086 | Win/lose count 24.5/9.199999999999983 (15.300000000000017)\n",
      "Epoch 012/050 | Loss 0.0046 | Win/lose count 21.5/12.599999999999977 (8.900000000000023)\n",
      "Epoch 013/050 | Loss 0.0044 | Win/lose count 21.0/14.599999999999964 (6.400000000000036)\n",
      "Epoch 014/050 | Loss 0.0098 | Win/lose count 12.0/15.999999999999963 (-3.9999999999999627)\n",
      "Epoch 015/050 | Loss 0.0380 | Win/lose count 21.0/10.599999999999978 (10.400000000000022)\n",
      "Epoch 016/050 | Loss 0.0067 | Win/lose count 20.5/11.099999999999978 (9.400000000000022)\n",
      "Epoch 017/050 | Loss 0.0095 | Win/lose count 22.5/11.89999999999998 (10.60000000000002)\n",
      "Epoch 018/050 | Loss 0.0174 | Win/lose count 16.0/13.799999999999967 (2.200000000000033)\n",
      "Epoch 019/050 | Loss 0.0059 | Win/lose count 12.0/15.89999999999996 (-3.8999999999999595)\n",
      "Epoch 020/050 | Loss 0.0078 | Win/lose count 12.0/14.999999999999966 (-2.9999999999999662)\n",
      "Epoch 021/050 | Loss 0.0114 | Win/lose count 25.5/10.09999999999998 (15.40000000000002)\n",
      "Epoch 022/050 | Loss 0.0040 | Win/lose count 22.0/10.199999999999982 (11.800000000000018)\n",
      "Epoch 023/050 | Loss 0.0074 | Win/lose count 21.0/13.699999999999982 (7.3000000000000185)\n",
      "Epoch 024/050 | Loss 0.0052 | Win/lose count 21.0/14.599999999999971 (6.400000000000029)\n",
      "Epoch 025/050 | Loss 0.0093 | Win/lose count 25.5/9.099999999999984 (16.400000000000016)\n",
      "Epoch 026/050 | Loss 0.0219 | Win/lose count 23.5/13.499999999999975 (10.000000000000025)\n",
      "Epoch 027/050 | Loss 0.0165 | Win/lose count 25.0/12.19999999999998 (12.80000000000002)\n",
      "Epoch 028/050 | Loss 0.0147 | Win/lose count 6.5/18.099999999999987 (-11.599999999999987)\n",
      "Epoch 029/050 | Loss 0.0176 | Win/lose count 23.0/15.599999999999975 (7.400000000000025)\n",
      "Epoch 030/050 | Loss 0.0164 | Win/lose count 31.0/8.699999999999985 (22.300000000000015)\n",
      "Epoch 031/050 | Loss 0.0119 | Win/lose count 20.5/14.399999999999965 (6.100000000000035)\n",
      "Epoch 032/050 | Loss 0.0102 | Win/lose count 23.0/10.99999999999998 (12.00000000000002)\n",
      "Epoch 033/050 | Loss 0.0106 | Win/lose count 19.5/13.09999999999997 (6.4000000000000306)\n",
      "Epoch 034/050 | Loss 0.0118 | Win/lose count 13.0/15.999999999999961 (-2.999999999999961)\n",
      "Epoch 035/050 | Loss 0.0146 | Win/lose count 24.5/10.49999999999998 (14.00000000000002)\n",
      "Epoch 036/050 | Loss 0.0138 | Win/lose count 18.5/12.399999999999975 (6.1000000000000245)\n",
      "Epoch 037/050 | Loss 0.0077 | Win/lose count 26.5/10.599999999999982 (15.900000000000018)\n",
      "Epoch 038/050 | Loss 0.0076 | Win/lose count 28.0/10.299999999999983 (17.700000000000017)\n",
      "Epoch 039/050 | Loss 0.0176 | Win/lose count 15.0/13.299999999999969 (1.7000000000000313)\n",
      "Epoch 040/050 | Loss 0.0079 | Win/lose count 27.0/7.099999999999991 (19.90000000000001)\n",
      "Epoch 041/050 | Loss 0.0121 | Win/lose count 20.0/13.999999999999966 (6.000000000000034)\n",
      "Epoch 042/050 | Loss 0.0134 | Win/lose count 23.5/11.499999999999975 (12.000000000000025)\n",
      "Epoch 043/050 | Loss 0.0069 | Win/lose count 20.0/14.699999999999966 (5.3000000000000345)\n",
      "Epoch 044/050 | Loss 0.0121 | Win/lose count 24.5/10.799999999999978 (13.700000000000022)\n",
      "Epoch 045/050 | Loss 0.0104 | Win/lose count 27.5/11.399999999999975 (16.100000000000023)\n",
      "Epoch 046/050 | Loss 0.0171 | Win/lose count 20.0/10.299999999999983 (9.700000000000017)\n",
      "Epoch 047/050 | Loss 0.0079 | Win/lose count 20.5/11.499999999999977 (9.000000000000023)\n",
      "Epoch 048/050 | Loss 0.0178 | Win/lose count 25.0/10.599999999999977 (14.400000000000023)\n",
      "Epoch 049/050 | Loss 0.0144 | Win/lose count 22.5/11.699999999999982 (10.800000000000018)\n"
     ]
    },
    {
     "data": {
      "text/html": [
       "<video alt=\"test\" controls>\n",
       "                <source src=\"data:video/mp4;base64,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\" type=\"video/mp4\" />\n",
       "             </video>"
      ],
      "text/plain": [
       "<IPython.core.display.HTML object>"
      ]
     },
     "execution_count": 50,
     "metadata": {},
     "output_type": "execute_result"
    }
   ],
   "source": [
    "# Training\n",
    "env = EnvironmentExploring(grid_size=size, max_time=T, temperature=0.3)\n",
    "agent = DQN_CNN(size, lr=.1, epsilon = 0.1, memory_size=2000, batch_size = 32,n_state=3)\n",
    "train_explore(agent, env, epochs_train, decay_parameter_epsilon=0.1, prefix='cnn_train_explore')\n",
    "HTML(display_videos('cnn_train_explore10.mp4'))"
   ]
  },
  {
   "cell_type": "code",
   "execution_count": 51,
   "metadata": {},
   "outputs": [
    {
     "name": "stdout",
     "output_type": "stream",
     "text": [
      "Win/lose count 15.0/2.0. Average score (13.0)\n",
      "Win/lose count 20.0/2.0. Average score (15.5)\n",
      "Win/lose count 13.0/2.0. Average score (14.0)\n",
      "Win/lose count 27.5/6.0. Average score (15.875)\n",
      "Win/lose count 23.0/5.0. Average score (16.3)\n",
      "Win/lose count 22.0/1.0. Average score (17.083333333333332)\n",
      "Win/lose count 20.0/4.0. Average score (16.928571428571427)\n",
      "Win/lose count 25.5/3.0. Average score (17.625)\n",
      "Win/lose count 22.0/2.0. Average score (17.88888888888889)\n",
      "Win/lose count 20.5/2.0. Average score (17.95)\n",
      "Final score: 17.95\n"
     ]
    },
    {
     "ename": "FileNotFoundError",
     "evalue": "[Errno 2] No such file or directory: 'cnn_test_explore10.mp4'",
     "output_type": "error",
     "traceback": [
      "\u001b[1;31m---------------------------------------------------------------------------\u001b[0m",
      "\u001b[1;31mFileNotFoundError\u001b[0m                         Traceback (most recent call last)",
      "\u001b[1;32m<ipython-input-51-598634141cce>\u001b[0m in \u001b[0;36m<module>\u001b[1;34m()\u001b[0m\n\u001b[0;32m      1\u001b[0m \u001b[1;31m# Evaluation\u001b[0m\u001b[1;33m\u001b[0m\u001b[1;33m\u001b[0m\u001b[0m\n\u001b[0;32m      2\u001b[0m \u001b[0mtest\u001b[0m\u001b[1;33m(\u001b[0m\u001b[0magent\u001b[0m\u001b[1;33m,\u001b[0m\u001b[0menv\u001b[0m\u001b[1;33m,\u001b[0m\u001b[0mepochs_test\u001b[0m\u001b[1;33m,\u001b[0m\u001b[0mprefix\u001b[0m\u001b[1;33m=\u001b[0m\u001b[1;34m'cnn_test_explore'\u001b[0m\u001b[1;33m)\u001b[0m\u001b[1;33m\u001b[0m\u001b[0m\n\u001b[1;32m----> 3\u001b[1;33m \u001b[0mHTML\u001b[0m\u001b[1;33m(\u001b[0m\u001b[0mdisplay_videos\u001b[0m\u001b[1;33m(\u001b[0m\u001b[1;34m'cnn_test_explore10.mp4'\u001b[0m\u001b[1;33m)\u001b[0m\u001b[1;33m)\u001b[0m\u001b[1;33m\u001b[0m\u001b[0m\n\u001b[0m",
      "\u001b[1;32m<ipython-input-29-671fe6ce94d8>\u001b[0m in \u001b[0;36mdisplay_videos\u001b[1;34m(name)\u001b[0m\n\u001b[0;32m      8\u001b[0m \u001b[1;31m# display videos\u001b[0m\u001b[1;33m\u001b[0m\u001b[1;33m\u001b[0m\u001b[0m\n\u001b[0;32m      9\u001b[0m \u001b[1;32mdef\u001b[0m \u001b[0mdisplay_videos\u001b[0m\u001b[1;33m(\u001b[0m\u001b[0mname\u001b[0m\u001b[1;33m)\u001b[0m\u001b[1;33m:\u001b[0m\u001b[1;33m\u001b[0m\u001b[0m\n\u001b[1;32m---> 10\u001b[1;33m     \u001b[0mvideo\u001b[0m \u001b[1;33m=\u001b[0m \u001b[0mio\u001b[0m\u001b[1;33m.\u001b[0m\u001b[0mopen\u001b[0m\u001b[1;33m(\u001b[0m\u001b[0mname\u001b[0m\u001b[1;33m,\u001b[0m \u001b[1;34m'r+b'\u001b[0m\u001b[1;33m)\u001b[0m\u001b[1;33m.\u001b[0m\u001b[0mread\u001b[0m\u001b[1;33m(\u001b[0m\u001b[1;33m)\u001b[0m\u001b[1;33m\u001b[0m\u001b[0m\n\u001b[0m\u001b[0;32m     11\u001b[0m     \u001b[0mencoded\u001b[0m \u001b[1;33m=\u001b[0m \u001b[0mbase64\u001b[0m\u001b[1;33m.\u001b[0m\u001b[0mb64encode\u001b[0m\u001b[1;33m(\u001b[0m\u001b[0mvideo\u001b[0m\u001b[1;33m)\u001b[0m\u001b[1;33m\u001b[0m\u001b[0m\n\u001b[0;32m     12\u001b[0m     return '''<video alt=\"test\" controls>\n",
      "\u001b[1;31mFileNotFoundError\u001b[0m: [Errno 2] No such file or directory: 'cnn_test_explore10.mp4'"
     ]
    }
   ],
   "source": [
    "# Evaluation\n",
    "test(agent,env,epochs_test,prefix='cnn_test_explore')\n",
    "HTML(display_videos('cnn_test_explore10.mp4'))"
   ]
  },
  {
   "cell_type": "markdown",
   "metadata": {},
   "source": [
    "The approach with exploration widely increased the results (+10 on the average score for the test).\n"
   ]
  },
  {
   "cell_type": "markdown",
   "metadata": {},
   "source": [
    "***\n",
    "***\n",
    "__BONUS question__ Use the expert DQN from the previous question to generate some winning games. Train a model that mimicks its behavior. Compare the performances."
   ]
  },
  {
   "cell_type": "markdown",
   "metadata": {},
   "source": []
  },
  {
   "cell_type": "markdown",
   "metadata": {},
   "source": [
    "***"
   ]
  }
 ],
 "metadata": {
  "kernelspec": {
   "display_name": "Python 3",
   "language": "python",
   "name": "python3"
  },
  "language_info": {
   "codemirror_mode": {
    "name": "ipython",
    "version": 3
   },
   "file_extension": ".py",
   "mimetype": "text/x-python",
   "name": "python",
   "nbconvert_exporter": "python",
   "pygments_lexer": "ipython3",
   "version": "3.5.5"
  }
 },
 "nbformat": 4,
 "nbformat_minor": 2
}
